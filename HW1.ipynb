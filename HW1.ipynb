{
 "cells": [
  {
   "cell_type": "code",
   "execution_count": 11,
   "metadata": {},
   "outputs": [],
   "source": [
    "# import numpy as np\n",
    "# import scipy as sp"
   ]
  },
  {
   "cell_type": "code",
   "execution_count": 12,
   "metadata": {},
   "outputs": [],
   "source": [
    "import pulp"
   ]
  },
  {
   "cell_type": "code",
   "execution_count": 13,
   "metadata": {},
   "outputs": [],
   "source": [
    "#Instantiate the problem as \"Diet Optimization LP\"\n",
    "my_lp_problem = pulp.LpProblem(\"Diet_Optimization_LP\", pulp.LpMinimize)"
   ]
  },
  {
   "cell_type": "code",
   "execution_count": 14,
   "metadata": {},
   "outputs": [
    {
     "name": "stdout",
     "output_type": "stream",
     "text": [
      "Welcome to the CBC MILP Solver \n",
      "Version: 2.10.5 \n",
      "Build Date: May 10 2021 \n",
      "\n",
      "command line - cbc /var/folders/xf/sym_dm2d1dq_7998vxvr369m0000gn/T/fb0ab8a6d2334128b893be071abd2fa1-pulp.mps timeMode elapsed branch printingOptions all solution /var/folders/xf/sym_dm2d1dq_7998vxvr369m0000gn/T/fb0ab8a6d2334128b893be071abd2fa1-pulp.sol (default strategy 1)\n",
      "At line 2 NAME          MODEL\n",
      "At line 3 ROWS\n",
      "At line 12 COLUMNS\n",
      "At line 47 RHS\n",
      "At line 55 BOUNDS\n",
      "At line 56 ENDATA\n",
      "Problem MODEL has 7 rows, 5 columns and 29 elements\n",
      "Coin0008I MODEL read with 0 errors\n",
      "Option for timeMode changed from cpu to elapsed\n",
      "Presolve 7 (0) rows, 5 (0) columns and 29 (0) elements\n",
      "0  Obj 0 Primal inf 50.759755 (6)\n",
      "3  Obj 549.47917\n",
      "Optimal - objective value 549.47917\n",
      "Optimal objective 549.4791667 - 3 iterations time 0.002\n",
      "Option for printingOptions changed from normal to all\n",
      "Total time (CPU seconds):       0.00   (Wallclock seconds):       0.00\n",
      "\n"
     ]
    },
    {
     "data": {
      "text/plain": [
       "'Optimal'"
      ]
     },
     "execution_count": 14,
     "metadata": {},
     "output_type": "execute_result"
    }
   ],
   "source": [
    "#Creating Decision Variables for each food item\n",
    "bar = pulp.LpVariable('bar', lowBound=0, cat='Continuous')\n",
    "shake = pulp.LpVariable('shake', lowBound=0, cat='Continuous')\n",
    "redbull = pulp.LpVariable('redbull', lowBound=0, cat='Continuous')\n",
    "mboost = pulp.LpVariable('mboost', lowBound=0, cat='Continuous')\n",
    "egg = pulp.LpVariable('egg', lowBound=0, cat='Continuous')\n",
    "\n",
    "#Objective Function\n",
    "my_lp_problem += 10*bar + 3.75*shake + 3.75*redbull + 5*mboost + 1.25*egg\n",
    "\n",
    "#Adding Constraints \n",
    "my_lp_problem += 150*bar + 290*shake + 160*redbull + 100*mboost + 78*egg >= 2000  # energy\n",
    "my_lp_problem += 60*bar + 400*shake + 125*redbull + 120*mboost + 62*egg <= 5000  # sodium\n",
    "my_lp_problem += 12*bar + 35*shake + 0*redbull + 8*mboost + 6*egg >= 800  #protien\n",
    "my_lp_problem += 0*bar + 2.6*shake + 0*redbull + 5*mboost + 2*egg >= 20  #Vit D\n",
    "my_lp_problem += 95*bar + 300*shake + 0*redbull + 30*mboost + 130*egg >= 1300  #Calcium\n",
    "my_lp_problem += 2*bar + 5.5*shake + 0*redbull + 1.5*mboost + 1*egg >= 18  #Iron\n",
    "my_lp_problem += 91*bar + 318*shake + 0*redbull + 500*mboost + 63*egg >= 4700  #Potassium\n",
    "\n",
    "#solve the my LP Problem\n",
    "\n",
    "my_lp_problem.solve()\n",
    "pulp.LpStatus[my_lp_problem.status]"
   ]
  },
  {
   "cell_type": "code",
   "execution_count": 15,
   "metadata": {},
   "outputs": [
    {
     "name": "stdout",
     "output_type": "stream",
     "text": [
      "Optimal Solution to the Diet Optimization Problem\n",
      "bar = 51.041667\n",
      "egg = 31.25\n",
      "mboost = 0.0\n",
      "redbull = 0.0\n",
      "shake = 0.0\n"
     ]
    }
   ],
   "source": [
    "print(\"Optimal Solution to the Diet Optimization Problem\")\n",
    "for variable in my_lp_problem.variables():\n",
    "    print(\"{} = {}\".format(variable.name, variable.varValue))"
   ]
  }
 ],
 "metadata": {
  "kernelspec": {
   "display_name": "base",
   "language": "python",
   "name": "python3"
  },
  "language_info": {
   "codemirror_mode": {
    "name": "ipython",
    "version": 3
   },
   "file_extension": ".py",
   "mimetype": "text/x-python",
   "name": "python",
   "nbconvert_exporter": "python",
   "pygments_lexer": "ipython3",
   "version": "3.11.6"
  }
 },
 "nbformat": 4,
 "nbformat_minor": 2
}
